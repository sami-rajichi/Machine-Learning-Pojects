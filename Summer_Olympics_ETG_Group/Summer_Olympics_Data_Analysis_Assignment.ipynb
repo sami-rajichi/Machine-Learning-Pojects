{
  "nbformat": 4,
  "nbformat_minor": 0,
  "metadata": {
    "colab": {
      "name": "Summer Olympics Data Analysis Assignment.ipynb",
      "provenance": []
    },
    "kernelspec": {
      "name": "python3",
      "display_name": "Python 3"
    },
    "language_info": {
      "name": "python"
    }
  },
  "cells": [
    {
      "cell_type": "markdown",
      "metadata": {
        "id": "Qx1e3tle7GCH"
      },
      "source": [
        "#**Data Exploration**\n",
        "\n",
        "> Before I start working on the assignment, I will be exploring the data so that I will make sure my data doesn't contain any null or invalid values."
      ]
    },
    {
      "cell_type": "code",
      "metadata": {
        "id": "pRtY4ZPKspLn"
      },
      "source": [
        "import pandas as pd\n",
        "import numpy as np"
      ],
      "execution_count": 1,
      "outputs": []
    },
    {
      "cell_type": "code",
      "metadata": {
        "colab": {
          "base_uri": "https://localhost:8080/",
          "height": 204
        },
        "id": "-mr92qNEjOef",
        "outputId": "fc5c14ae-2dc6-443b-b299-be4a6955c78a"
      },
      "source": [
        "# I uploaded the dataset in my Google Drive so that each time I connect to the notebook\n",
        "# I won't need to re-upload it again and again \n",
        "summer_dataframe = pd.read_csv('drive/MyDrive/summer.csv')\n",
        "summer_dataframe.head()"
      ],
      "execution_count": 2,
      "outputs": [
        {
          "output_type": "execute_result",
          "data": {
            "text/html": [
              "<div>\n",
              "<style scoped>\n",
              "    .dataframe tbody tr th:only-of-type {\n",
              "        vertical-align: middle;\n",
              "    }\n",
              "\n",
              "    .dataframe tbody tr th {\n",
              "        vertical-align: top;\n",
              "    }\n",
              "\n",
              "    .dataframe thead th {\n",
              "        text-align: right;\n",
              "    }\n",
              "</style>\n",
              "<table border=\"1\" class=\"dataframe\">\n",
              "  <thead>\n",
              "    <tr style=\"text-align: right;\">\n",
              "      <th></th>\n",
              "      <th>Year</th>\n",
              "      <th>City</th>\n",
              "      <th>Sport</th>\n",
              "      <th>Discipline</th>\n",
              "      <th>Athlete</th>\n",
              "      <th>Country</th>\n",
              "      <th>Gender</th>\n",
              "      <th>Event</th>\n",
              "      <th>Medal</th>\n",
              "    </tr>\n",
              "  </thead>\n",
              "  <tbody>\n",
              "    <tr>\n",
              "      <th>0</th>\n",
              "      <td>1896</td>\n",
              "      <td>Athens</td>\n",
              "      <td>Aquatics</td>\n",
              "      <td>Swimming</td>\n",
              "      <td>HAJOS, Alfred</td>\n",
              "      <td>HUN</td>\n",
              "      <td>Men</td>\n",
              "      <td>100M Freestyle</td>\n",
              "      <td>Gold</td>\n",
              "    </tr>\n",
              "    <tr>\n",
              "      <th>1</th>\n",
              "      <td>1896</td>\n",
              "      <td>Athens</td>\n",
              "      <td>Aquatics</td>\n",
              "      <td>Swimming</td>\n",
              "      <td>HERSCHMANN, Otto</td>\n",
              "      <td>AUT</td>\n",
              "      <td>Men</td>\n",
              "      <td>100M Freestyle</td>\n",
              "      <td>Silver</td>\n",
              "    </tr>\n",
              "    <tr>\n",
              "      <th>2</th>\n",
              "      <td>1896</td>\n",
              "      <td>Athens</td>\n",
              "      <td>Aquatics</td>\n",
              "      <td>Swimming</td>\n",
              "      <td>DRIVAS, Dimitrios</td>\n",
              "      <td>GRE</td>\n",
              "      <td>Men</td>\n",
              "      <td>100M Freestyle For Sailors</td>\n",
              "      <td>Bronze</td>\n",
              "    </tr>\n",
              "    <tr>\n",
              "      <th>3</th>\n",
              "      <td>1896</td>\n",
              "      <td>Athens</td>\n",
              "      <td>Aquatics</td>\n",
              "      <td>Swimming</td>\n",
              "      <td>MALOKINIS, Ioannis</td>\n",
              "      <td>GRE</td>\n",
              "      <td>Men</td>\n",
              "      <td>100M Freestyle For Sailors</td>\n",
              "      <td>Gold</td>\n",
              "    </tr>\n",
              "    <tr>\n",
              "      <th>4</th>\n",
              "      <td>1896</td>\n",
              "      <td>Athens</td>\n",
              "      <td>Aquatics</td>\n",
              "      <td>Swimming</td>\n",
              "      <td>CHASAPIS, Spiridon</td>\n",
              "      <td>GRE</td>\n",
              "      <td>Men</td>\n",
              "      <td>100M Freestyle For Sailors</td>\n",
              "      <td>Silver</td>\n",
              "    </tr>\n",
              "  </tbody>\n",
              "</table>\n",
              "</div>"
            ],
            "text/plain": [
              "   Year    City     Sport  ... Gender                       Event   Medal\n",
              "0  1896  Athens  Aquatics  ...    Men              100M Freestyle    Gold\n",
              "1  1896  Athens  Aquatics  ...    Men              100M Freestyle  Silver\n",
              "2  1896  Athens  Aquatics  ...    Men  100M Freestyle For Sailors  Bronze\n",
              "3  1896  Athens  Aquatics  ...    Men  100M Freestyle For Sailors    Gold\n",
              "4  1896  Athens  Aquatics  ...    Men  100M Freestyle For Sailors  Silver\n",
              "\n",
              "[5 rows x 9 columns]"
            ]
          },
          "metadata": {},
          "execution_count": 2
        }
      ]
    },
    {
      "cell_type": "code",
      "metadata": {
        "colab": {
          "base_uri": "https://localhost:8080/"
        },
        "id": "mjfY3zux6i5w",
        "outputId": "80029400-bcea-47c3-8eb5-b80d1a19c795"
      },
      "source": [
        "# The data contains 31165 records\n",
        "len(summer_dataframe)"
      ],
      "execution_count": 3,
      "outputs": [
        {
          "output_type": "execute_result",
          "data": {
            "text/plain": [
              "31165"
            ]
          },
          "metadata": {},
          "execution_count": 3
        }
      ]
    },
    {
      "cell_type": "code",
      "metadata": {
        "colab": {
          "base_uri": "https://localhost:8080/",
          "height": 297
        },
        "id": "5zzzvkm65x3x",
        "outputId": "dbaed3ad-2605-4022-db8e-b7123a6d04ba"
      },
      "source": [
        "# As the description is showing up below, the data has records from 1896 till 2012\n",
        "# which means 29-Olympics-season\n",
        "# As you might have noticed, the description only shows the Year column\n",
        "# because it's the only column that has numeric values \n",
        "summer_dataframe.describe()"
      ],
      "execution_count": 4,
      "outputs": [
        {
          "output_type": "execute_result",
          "data": {
            "text/html": [
              "<div>\n",
              "<style scoped>\n",
              "    .dataframe tbody tr th:only-of-type {\n",
              "        vertical-align: middle;\n",
              "    }\n",
              "\n",
              "    .dataframe tbody tr th {\n",
              "        vertical-align: top;\n",
              "    }\n",
              "\n",
              "    .dataframe thead th {\n",
              "        text-align: right;\n",
              "    }\n",
              "</style>\n",
              "<table border=\"1\" class=\"dataframe\">\n",
              "  <thead>\n",
              "    <tr style=\"text-align: right;\">\n",
              "      <th></th>\n",
              "      <th>Year</th>\n",
              "    </tr>\n",
              "  </thead>\n",
              "  <tbody>\n",
              "    <tr>\n",
              "      <th>count</th>\n",
              "      <td>31165.000000</td>\n",
              "    </tr>\n",
              "    <tr>\n",
              "      <th>mean</th>\n",
              "      <td>1970.482785</td>\n",
              "    </tr>\n",
              "    <tr>\n",
              "      <th>std</th>\n",
              "      <td>33.158416</td>\n",
              "    </tr>\n",
              "    <tr>\n",
              "      <th>min</th>\n",
              "      <td>1896.000000</td>\n",
              "    </tr>\n",
              "    <tr>\n",
              "      <th>25%</th>\n",
              "      <td>1948.000000</td>\n",
              "    </tr>\n",
              "    <tr>\n",
              "      <th>50%</th>\n",
              "      <td>1980.000000</td>\n",
              "    </tr>\n",
              "    <tr>\n",
              "      <th>75%</th>\n",
              "      <td>2000.000000</td>\n",
              "    </tr>\n",
              "    <tr>\n",
              "      <th>max</th>\n",
              "      <td>2012.000000</td>\n",
              "    </tr>\n",
              "  </tbody>\n",
              "</table>\n",
              "</div>"
            ],
            "text/plain": [
              "               Year\n",
              "count  31165.000000\n",
              "mean    1970.482785\n",
              "std       33.158416\n",
              "min     1896.000000\n",
              "25%     1948.000000\n",
              "50%     1980.000000\n",
              "75%     2000.000000\n",
              "max     2012.000000"
            ]
          },
          "metadata": {},
          "execution_count": 4
        }
      ]
    },
    {
      "cell_type": "code",
      "metadata": {
        "colab": {
          "base_uri": "https://localhost:8080/"
        },
        "id": "hG6A9WST6ViZ",
        "outputId": "71a1ceb2-0691-42d8-9594-58ceb04bf302"
      },
      "source": [
        "# From this informational table, we can notice that our dataset contains 4 null values in country column \n",
        "# but, these values won't affect that much our analysis process \n",
        "# so, no need for preprocessing the data and we can step ahead to our assignment \n",
        "summer_dataframe.info()"
      ],
      "execution_count": 5,
      "outputs": [
        {
          "output_type": "stream",
          "name": "stdout",
          "text": [
            "<class 'pandas.core.frame.DataFrame'>\n",
            "RangeIndex: 31165 entries, 0 to 31164\n",
            "Data columns (total 9 columns):\n",
            " #   Column      Non-Null Count  Dtype \n",
            "---  ------      --------------  ----- \n",
            " 0   Year        31165 non-null  int64 \n",
            " 1   City        31165 non-null  object\n",
            " 2   Sport       31165 non-null  object\n",
            " 3   Discipline  31165 non-null  object\n",
            " 4   Athlete     31165 non-null  object\n",
            " 5   Country     31161 non-null  object\n",
            " 6   Gender      31165 non-null  object\n",
            " 7   Event       31165 non-null  object\n",
            " 8   Medal       31165 non-null  object\n",
            "dtypes: int64(1), object(8)\n",
            "memory usage: 2.1+ MB\n"
          ]
        }
      ]
    },
    {
      "cell_type": "markdown",
      "metadata": {
        "id": "C-QqrOzfsAeT"
      },
      "source": [
        "#**Summer Olympics Data Analysis Assignment**"
      ]
    },
    {
      "cell_type": "code",
      "metadata": {
        "colab": {
          "base_uri": "https://localhost:8080/",
          "height": 204
        },
        "id": "zKHK-ef1GfS7",
        "outputId": "47ba1781-118c-4c2d-b1f0-8ac1155fc393"
      },
      "source": [
        "summer_dataframe.head()"
      ],
      "execution_count": 6,
      "outputs": [
        {
          "output_type": "execute_result",
          "data": {
            "text/html": [
              "<div>\n",
              "<style scoped>\n",
              "    .dataframe tbody tr th:only-of-type {\n",
              "        vertical-align: middle;\n",
              "    }\n",
              "\n",
              "    .dataframe tbody tr th {\n",
              "        vertical-align: top;\n",
              "    }\n",
              "\n",
              "    .dataframe thead th {\n",
              "        text-align: right;\n",
              "    }\n",
              "</style>\n",
              "<table border=\"1\" class=\"dataframe\">\n",
              "  <thead>\n",
              "    <tr style=\"text-align: right;\">\n",
              "      <th></th>\n",
              "      <th>Year</th>\n",
              "      <th>City</th>\n",
              "      <th>Sport</th>\n",
              "      <th>Discipline</th>\n",
              "      <th>Athlete</th>\n",
              "      <th>Country</th>\n",
              "      <th>Gender</th>\n",
              "      <th>Event</th>\n",
              "      <th>Medal</th>\n",
              "    </tr>\n",
              "  </thead>\n",
              "  <tbody>\n",
              "    <tr>\n",
              "      <th>0</th>\n",
              "      <td>1896</td>\n",
              "      <td>Athens</td>\n",
              "      <td>Aquatics</td>\n",
              "      <td>Swimming</td>\n",
              "      <td>HAJOS, Alfred</td>\n",
              "      <td>HUN</td>\n",
              "      <td>Men</td>\n",
              "      <td>100M Freestyle</td>\n",
              "      <td>Gold</td>\n",
              "    </tr>\n",
              "    <tr>\n",
              "      <th>1</th>\n",
              "      <td>1896</td>\n",
              "      <td>Athens</td>\n",
              "      <td>Aquatics</td>\n",
              "      <td>Swimming</td>\n",
              "      <td>HERSCHMANN, Otto</td>\n",
              "      <td>AUT</td>\n",
              "      <td>Men</td>\n",
              "      <td>100M Freestyle</td>\n",
              "      <td>Silver</td>\n",
              "    </tr>\n",
              "    <tr>\n",
              "      <th>2</th>\n",
              "      <td>1896</td>\n",
              "      <td>Athens</td>\n",
              "      <td>Aquatics</td>\n",
              "      <td>Swimming</td>\n",
              "      <td>DRIVAS, Dimitrios</td>\n",
              "      <td>GRE</td>\n",
              "      <td>Men</td>\n",
              "      <td>100M Freestyle For Sailors</td>\n",
              "      <td>Bronze</td>\n",
              "    </tr>\n",
              "    <tr>\n",
              "      <th>3</th>\n",
              "      <td>1896</td>\n",
              "      <td>Athens</td>\n",
              "      <td>Aquatics</td>\n",
              "      <td>Swimming</td>\n",
              "      <td>MALOKINIS, Ioannis</td>\n",
              "      <td>GRE</td>\n",
              "      <td>Men</td>\n",
              "      <td>100M Freestyle For Sailors</td>\n",
              "      <td>Gold</td>\n",
              "    </tr>\n",
              "    <tr>\n",
              "      <th>4</th>\n",
              "      <td>1896</td>\n",
              "      <td>Athens</td>\n",
              "      <td>Aquatics</td>\n",
              "      <td>Swimming</td>\n",
              "      <td>CHASAPIS, Spiridon</td>\n",
              "      <td>GRE</td>\n",
              "      <td>Men</td>\n",
              "      <td>100M Freestyle For Sailors</td>\n",
              "      <td>Silver</td>\n",
              "    </tr>\n",
              "  </tbody>\n",
              "</table>\n",
              "</div>"
            ],
            "text/plain": [
              "   Year    City     Sport  ... Gender                       Event   Medal\n",
              "0  1896  Athens  Aquatics  ...    Men              100M Freestyle    Gold\n",
              "1  1896  Athens  Aquatics  ...    Men              100M Freestyle  Silver\n",
              "2  1896  Athens  Aquatics  ...    Men  100M Freestyle For Sailors  Bronze\n",
              "3  1896  Athens  Aquatics  ...    Men  100M Freestyle For Sailors    Gold\n",
              "4  1896  Athens  Aquatics  ...    Men  100M Freestyle For Sailors  Silver\n",
              "\n",
              "[5 rows x 9 columns]"
            ]
          },
          "metadata": {},
          "execution_count": 6
        }
      ]
    },
    {
      "cell_type": "markdown",
      "metadata": {
        "id": "h8oD0yirsRAi"
      },
      "source": [
        "**1. In how many cities Summer Olympics is held so far?**"
      ]
    },
    {
      "cell_type": "code",
      "metadata": {
        "id": "EcOf-_NusXwo",
        "colab": {
          "base_uri": "https://localhost:8080/"
        },
        "outputId": "7c880394-c66e-4e0f-8ee8-1ce40fb74525"
      },
      "source": [
        "print('There are {} unique cities that held the Summer Olympics so far, which are {}'.format(\n",
        "    summer_dataframe['City'].nunique(), summer_dataframe['City'].unique()))"
      ],
      "execution_count": 7,
      "outputs": [
        {
          "output_type": "stream",
          "name": "stdout",
          "text": [
            "There are 22 unique cities that held the Summer Olympics so far, which are ['Athens' 'Paris' 'St Louis' 'London' 'Stockholm' 'Antwerp' 'Amsterdam'\n",
            " 'Los Angeles' 'Berlin' 'Helsinki' 'Melbourne / Stockholm' 'Rome' 'Tokyo'\n",
            " 'Mexico' 'Munich' 'Montreal' 'Moscow' 'Seoul' 'Barcelona' 'Atlanta'\n",
            " 'Sydney' 'Beijing']\n"
          ]
        }
      ]
    },
    {
      "cell_type": "markdown",
      "metadata": {
        "id": "Bb_xD-y2ILcJ"
      },
      "source": [
        "**2. Which sport is having most number of Gold Medals so far? (Top 5)**"
      ]
    },
    {
      "cell_type": "code",
      "metadata": {
        "colab": {
          "base_uri": "https://localhost:8080/",
          "height": 606
        },
        "id": "HljdTSiMT2AX",
        "outputId": "824942d6-9554-447f-90b7-544b40395957"
      },
      "source": [
        "# For this question, I will be filtering my dataframe to only contain gold medals for each record \n",
        "df = summer_dataframe[summer_dataframe['Medal'] == 'Gold']\n",
        "# Then, I'll group the dataframe by each unique sport according to the number of gold medals each sport has \n",
        "q2 = df.groupby(['Sport']).count()['Medal'].sort_values(ascending=False).head()\n",
        "print('>>> Top 5 sports that have most number of Gold Medals so far:\\n',q1)\n",
        "q2.plot.bar(xlabel='Sports', ylabel='Gold Medals', color='gold', figsize=(12,6),\n",
        "                                    title='Top 5 sports that have most number of Gold Medals so far')"
      ],
      "execution_count": 28,
      "outputs": [
        {
          "output_type": "stream",
          "name": "stdout",
          "text": [
            ">>> Top 5 sports that have most number of Gold Medals so far:\n",
            " Sport\n",
            "Aquatics      1421\n",
            "Athletics     1215\n",
            "Rowing         890\n",
            "Gymnastics     820\n",
            "Fencing        552\n",
            "Name: Medal, dtype: int64\n"
          ]
        },
        {
          "output_type": "execute_result",
          "data": {
            "text/plain": [
              "<matplotlib.axes._subplots.AxesSubplot at 0x7ff19839a1d0>"
            ]
          },
          "metadata": {},
          "execution_count": 28
        },
        {
          "output_type": "display_data",
          "data": {
            "image/png": "[encoded data removed]",
            "text/plain": [
              "<Figure size 864x432 with 1 Axes>"
            ]
          },
          "metadata": {
            "needs_background": "light"
          }
        }
      ]
    },
    {
      "cell_type": "code",
      "metadata": {
        "colab": {
          "base_uri": "https://localhost:8080/"
        },
        "id": "rWMyWVQ04Ek3",
        "outputId": "415f4977-d1cc-4f74-b030-97ad629abc6b"
      },
      "source": [
        "# df.groupby(['Sport']).count()['Medal'] returns a result in series type so I am going to transfer it into \n",
        "# dictionary type so that I can extract the top sport with gold medals \n",
        "dic = dict(df.groupby(['Sport']).count()['Medal']) \n",
        "# I am using this approach to sort the dictionary but by using this approach dic will be of array of tuples \n",
        "# structure instead of remaining of type dictionary \n",
        "dic = sorted(dic.items(), key=lambda x:x[1], reverse=True)\n",
        "print(dic[0][0])\n",
        "print('The sport that has top number of Gold medals is {} with {} Gold medals.'.format(\n",
        "    dic[0][0], dic[0][1]\n",
        "))"
      ],
      "execution_count": 12,
      "outputs": [
        {
          "output_type": "stream",
          "name": "stdout",
          "text": [
            "Aquatics\n",
            "The sport that has top number of Gold medals is Aquatics with 1421 Gold medals.\n"
          ]
        }
      ]
    },
    {
      "cell_type": "markdown",
      "metadata": {
        "id": "C9l03UA0hH8u"
      },
      "source": [
        "**3. Which sport is having most number of medals so far? (Top 5)***"
      ]
    },
    {
      "cell_type": "code",
      "metadata": {
        "colab": {
          "base_uri": "https://localhost:8080/",
          "height": 606
        },
        "id": "6vtYta3cgCz5",
        "outputId": "17d0e163-e154-4e5d-abbc-2993f6832d1e"
      },
      "source": [
        "# The only change I will make for this question is that I am going to work with the whole data instead of the filtered one\n",
        "q3 = summer_dataframe.groupby(['Sport']).count()['Medal'].sort_values(ascending=False).head()\n",
        "print('>>> Top 5 sports that have most number of Medals so far:\\n',q2)\n",
        "q3.plot.bar(xlabel='Sports', ylabel='Medals (Bronze, Silver or Gold)', figsize=(12,6),\n",
        "                                    title='Top 5 sports that have most number of Medals so far')"
      ],
      "execution_count": 27,
      "outputs": [
        {
          "output_type": "stream",
          "name": "stdout",
          "text": [
            ">>> Top 5 sports that have most number of Medals so far:\n",
            " Sport\n",
            "Aquatics      4170\n",
            "Athletics     3638\n",
            "Rowing        2667\n",
            "Gymnastics    2307\n",
            "Fencing       1613\n",
            "Name: Medal, dtype: int64\n"
          ]
        },
        {
          "output_type": "execute_result",
          "data": {
            "text/plain": [
              "<matplotlib.axes._subplots.AxesSubplot at 0x7ff19816bf10>"
            ]
          },
          "metadata": {},
          "execution_count": 27
        },
        {
          "output_type": "display_data",
          "data": {
            "image/png": "[encoded data removed]",
            "text/plain": [
              "<Figure size 864x432 with 1 Axes>"
            ]
          },
          "metadata": {
            "needs_background": "light"
          }
        }
      ]
    },
    {
      "cell_type": "code",
      "metadata": {
        "colab": {
          "base_uri": "https://localhost:8080/"
        },
        "id": "K8rZH7Z-IlyH",
        "outputId": "467d7c87-0ae3-435c-8b0f-99d328691f3b"
      },
      "source": [
        "# I will be using the same approach like the previous question to print the answer \n",
        "dic = dict(summer_dataframe.groupby(['Sport']).count()['Medal'])  \n",
        "dic = sorted(dic.items(), key=lambda x:x[1], reverse=True)\n",
        "print(dic[0][0])\n",
        "print('The sport that has most number of medals (Bronze, Silver or Gold) is {} with {} medals.'.format(\n",
        "    dic[0][0], dic[0][1]\n",
        "))"
      ],
      "execution_count": 14,
      "outputs": [
        {
          "output_type": "stream",
          "name": "stdout",
          "text": [
            "Aquatics\n",
            "The sport that has most number of medals (Bronze, Silver or Gold) is Aquatics with 4170 medals.\n"
          ]
        }
      ]
    },
    {
      "cell_type": "markdown",
      "metadata": {
        "id": "xuzmz663nGCy"
      },
      "source": [
        "**4. Which player has won most number of medals? (Top 5)**"
      ]
    },
    {
      "cell_type": "code",
      "metadata": {
        "colab": {
          "base_uri": "https://localhost:8080/",
          "height": 664
        },
        "id": "234t8_M2ljzb",
        "outputId": "29fc4be3-ab71-432e-94f8-74e1e4921982"
      },
      "source": [
        "# The only change I will make for this question is that I will group the data by 'Athlete' column\n",
        "q4 = summer_dataframe.groupby(['Athlete']).count()['Medal'].sort_values(ascending=False).head()\n",
        "print('>>> Top 5 players who won most number of Medals so far:\\n',q3)\n",
        "q4.plot.bar(xlabel='Players', ylabel='Medals (Bronze, Silver or Gold)', color='green', figsize=(12,6),\n",
        "                                    title='Top 5 players who won most number of Medals so far')"
      ],
      "execution_count": 26,
      "outputs": [
        {
          "output_type": "stream",
          "name": "stdout",
          "text": [
            ">>> Top 5 players who won most number of Medals so far:\n",
            " Athlete\n",
            "PHELPS, Michael         22\n",
            "LATYNINA, Larisa        18\n",
            "ANDRIANOV, Nikolay      15\n",
            "MANGIAROTTI, Edoardo    13\n",
            "SHAKHLIN, Boris         13\n",
            "Name: Medal, dtype: int64\n"
          ]
        },
        {
          "output_type": "execute_result",
          "data": {
            "text/plain": [
              "<matplotlib.axes._subplots.AxesSubplot at 0x7ff197fbb850>"
            ]
          },
          "metadata": {},
          "execution_count": 26
        },
        {
          "output_type": "display_data",
          "data": {
            "image/png": "[encoded data removed]",
            "text/plain": [
              "<Figure size 864x432 with 1 Axes>"
            ]
          },
          "metadata": {
            "needs_background": "light"
          }
        }
      ]
    },
    {
      "cell_type": "code",
      "metadata": {
        "colab": {
          "base_uri": "https://localhost:8080/"
        },
        "id": "kpJicQwwKaAo",
        "outputId": "33f6f82f-687c-46fa-d4fc-865a0c3b5c83"
      },
      "source": [
        "# I will be using the same approach like the previous question to print the answer \n",
        "dic = dict(summer_dataframe.groupby(['Athlete']).count()['Medal'])  \n",
        "dic = sorted(dic.items(), key=lambda x:x[1], reverse=True)\n",
        "print(dic[0][0])\n",
        "print('The player who has most number of medals (Bronze, Silver or Gold) is {} with {} medals.'.format(\n",
        "    dic[0][0], dic[0][1]\n",
        "))"
      ],
      "execution_count": 16,
      "outputs": [
        {
          "output_type": "stream",
          "name": "stdout",
          "text": [
            "PHELPS, Michael\n",
            "The player who has most number of medals (Bronze, Silver or Gold) is PHELPS, Michael with 22 medals.\n"
          ]
        }
      ]
    },
    {
      "cell_type": "markdown",
      "metadata": {
        "id": "aYJr5AEjoaQk"
      },
      "source": [
        "**5. Which player has won most number Gold Medals of medals? (Top 5)**"
      ]
    },
    {
      "cell_type": "code",
      "metadata": {
        "colab": {
          "base_uri": "https://localhost:8080/",
          "height": 632
        },
        "id": "WcXBBd65nv7m",
        "outputId": "e1742f9e-1e32-433a-db12-adc344327dcb"
      },
      "source": [
        "# For this question, I will be filtering my dataframe to only contain gold medals for each record \n",
        "df = summer_dataframe[summer_dataframe['Medal'] == 'Gold']\n",
        "# Then, I'll group the dataframe by each unique athlete according to the number of gold medals each athlete won \n",
        "q5 = df.groupby(['Athlete']).count()['Medal'].sort_values(ascending=False).head()\n",
        "print('>>> Top 5 players who won most number of Gold Medals so far:\\n',q5)\n",
        "q5.plot.bar(xlabel='Players', ylabel='Gold Medals', color='gold', figsize=(12,6),\n",
        "            title='Top 5 players who won most number of Gold Medals so far')"
      ],
      "execution_count": 17,
      "outputs": [
        {
          "output_type": "stream",
          "name": "stdout",
          "text": [
            ">>> Top 5 players who won most number of Gold Medals so far:\n",
            " Athlete\n",
            "PHELPS, Michael     18\n",
            "NURMI, Paavo         9\n",
            "SPITZ, Mark          9\n",
            "LEWIS, Carl          9\n",
            "LATYNINA, Larisa     9\n",
            "Name: Medal, dtype: int64\n"
          ]
        },
        {
          "output_type": "execute_result",
          "data": {
            "text/plain": [
              "<matplotlib.axes._subplots.AxesSubplot at 0x7ff198054150>"
            ]
          },
          "metadata": {},
          "execution_count": 17
        },
        {
          "output_type": "display_data",
          "data": {
            "image/png": "[encoded data removed]",
            "text/plain": [
              "<Figure size 864x432 with 1 Axes>"
            ]
          },
          "metadata": {
            "needs_background": "light"
          }
        }
      ]
    },
    {
      "cell_type": "code",
      "metadata": {
        "id": "WTiEDHaFl-D-",
        "colab": {
          "base_uri": "https://localhost:8080/"
        },
        "outputId": "ce21b56c-52aa-47bb-81ac-964b0aaf8397"
      },
      "source": [
        "# I will be using the same approach like the previous question to print the answer \n",
        "dic = dict(df.groupby(['Athlete']).count()['Medal'])  \n",
        "dic = sorted(dic.items(), key=lambda x:x[1], reverse=True)\n",
        "print(dic[0][0])\n",
        "print('The player who has most number of Gold medals is {} with {} medals.'.format(\n",
        "    dic[0][0], dic[0][1]\n",
        "))"
      ],
      "execution_count": 18,
      "outputs": [
        {
          "output_type": "stream",
          "name": "stdout",
          "text": [
            "PHELPS, Michael\n",
            "The player who has most number of Gold medals is PHELPS, Michael with 18 medals.\n"
          ]
        }
      ]
    },
    {
      "cell_type": "markdown",
      "metadata": {
        "id": "5mJD7e4HUGNY"
      },
      "source": [
        "**6. In which year India won first Gold Medal in Summer Olympics?**"
      ]
    },
    {
      "cell_type": "code",
      "metadata": {
        "id": "BIZrlfbNp3Qu",
        "colab": {
          "base_uri": "https://localhost:8080/"
        },
        "outputId": "797eca96-0441-4ea9-9699-9312e76d76c5"
      },
      "source": [
        "# For this question, I'll be filtering my data to only have records with 'IND' country as well as Gold medals\n",
        "# IND is the acronym of India \n",
        "# With numpy library, I can easily transfer the data frame into an array so I can extract the year easily  \n",
        "df = np.array(summer_dataframe[(summer_dataframe['Country'] == 'IND') & (summer_dataframe['Medal'] == 'Gold')])\n",
        "print(df[0][0])\n",
        "print('In {}, India won its first Gold medal in Summer Olympics.'.format(df[0][0]))"
      ],
      "execution_count": 19,
      "outputs": [
        {
          "output_type": "stream",
          "name": "stdout",
          "text": [
            "1928\n",
            "In 1928, India won its first Gold medal in Summer Olympics.\n"
          ]
        }
      ]
    },
    {
      "cell_type": "code",
      "metadata": {
        "colab": {
          "base_uri": "https://localhost:8080/",
          "height": 641
        },
        "id": "aoh347gm-AlW",
        "outputId": "2c3a3fdc-952b-4d85-c6ed-5f95edec562c"
      },
      "source": [
        "df = summer_dataframe[(summer_dataframe['Medal'] == 'Gold') & (summer_dataframe['Country'] == 'IND')]\n",
        "q6 = df.groupby(['Year']).count()['Country']\n",
        "print('>>> India journey with Gold medals:\\n', q6)\n",
        "q6.plot.bar(ylabel='Gold Medals', title='India journey with Gold medals', figsize=(12,6))"
      ],
      "execution_count": 9,
      "outputs": [
        {
          "output_type": "stream",
          "name": "stdout",
          "text": [
            ">>> India journey with Gold medals:\n",
            " Year\n",
            "1928    15\n",
            "1932    11\n",
            "1936    19\n",
            "1948    20\n",
            "1952    14\n",
            "1956    17\n",
            "1964    15\n",
            "1980    16\n",
            "2008     1\n",
            "Name: Country, dtype: int64\n"
          ]
        },
        {
          "output_type": "execute_result",
          "data": {
            "text/plain": [
              "<matplotlib.axes._subplots.AxesSubplot at 0x7fc6a234be10>"
            ]
          },
          "metadata": {},
          "execution_count": 9
        },
        {
          "output_type": "display_data",
          "data": {
            "image/png": "[encoded data removed]",
            "text/plain": [
              "<Figure size 864x432 with 1 Axes>"
            ]
          },
          "metadata": {
            "needs_background": "light"
          }
        }
      ]
    },
    {
      "cell_type": "markdown",
      "metadata": {
        "id": "nV09adPck44q"
      },
      "source": [
        "**7. Which event is most popular in terms of number of players? (Top 5)**"
      ]
    },
    {
      "cell_type": "code",
      "metadata": {
        "colab": {
          "base_uri": "https://localhost:8080/",
          "height": 204
        },
        "id": "ZgOV8hRXkwQJ",
        "outputId": "893dddf6-6438-41a6-c6a2-8318bb836111"
      },
      "source": [
        "summer_dataframe.head()"
      ],
      "execution_count": null,
      "outputs": [
        {
          "output_type": "execute_result",
          "data": {
            "text/html": [
              "<div>\n",
              "<style scoped>\n",
              "    .dataframe tbody tr th:only-of-type {\n",
              "        vertical-align: middle;\n",
              "    }\n",
              "\n",
              "    .dataframe tbody tr th {\n",
              "        vertical-align: top;\n",
              "    }\n",
              "\n",
              "    .dataframe thead th {\n",
              "        text-align: right;\n",
              "    }\n",
              "</style>\n",
              "<table border=\"1\" class=\"dataframe\">\n",
              "  <thead>\n",
              "    <tr style=\"text-align: right;\">\n",
              "      <th></th>\n",
              "      <th>Year</th>\n",
              "      <th>City</th>\n",
              "      <th>Sport</th>\n",
              "      <th>Discipline</th>\n",
              "      <th>Athlete</th>\n",
              "      <th>Country</th>\n",
              "      <th>Gender</th>\n",
              "      <th>Event</th>\n",
              "      <th>Medal</th>\n",
              "    </tr>\n",
              "  </thead>\n",
              "  <tbody>\n",
              "    <tr>\n",
              "      <th>0</th>\n",
              "      <td>1896</td>\n",
              "      <td>Athens</td>\n",
              "      <td>Aquatics</td>\n",
              "      <td>Swimming</td>\n",
              "      <td>HAJOS, Alfred</td>\n",
              "      <td>HUN</td>\n",
              "      <td>Men</td>\n",
              "      <td>100M Freestyle</td>\n",
              "      <td>Gold</td>\n",
              "    </tr>\n",
              "    <tr>\n",
              "      <th>1</th>\n",
              "      <td>1896</td>\n",
              "      <td>Athens</td>\n",
              "      <td>Aquatics</td>\n",
              "      <td>Swimming</td>\n",
              "      <td>HERSCHMANN, Otto</td>\n",
              "      <td>AUT</td>\n",
              "      <td>Men</td>\n",
              "      <td>100M Freestyle</td>\n",
              "      <td>Silver</td>\n",
              "    </tr>\n",
              "    <tr>\n",
              "      <th>2</th>\n",
              "      <td>1896</td>\n",
              "      <td>Athens</td>\n",
              "      <td>Aquatics</td>\n",
              "      <td>Swimming</td>\n",
              "      <td>DRIVAS, Dimitrios</td>\n",
              "      <td>GRE</td>\n",
              "      <td>Men</td>\n",
              "      <td>100M Freestyle For Sailors</td>\n",
              "      <td>Bronze</td>\n",
              "    </tr>\n",
              "    <tr>\n",
              "      <th>3</th>\n",
              "      <td>1896</td>\n",
              "      <td>Athens</td>\n",
              "      <td>Aquatics</td>\n",
              "      <td>Swimming</td>\n",
              "      <td>MALOKINIS, Ioannis</td>\n",
              "      <td>GRE</td>\n",
              "      <td>Men</td>\n",
              "      <td>100M Freestyle For Sailors</td>\n",
              "      <td>Gold</td>\n",
              "    </tr>\n",
              "    <tr>\n",
              "      <th>4</th>\n",
              "      <td>1896</td>\n",
              "      <td>Athens</td>\n",
              "      <td>Aquatics</td>\n",
              "      <td>Swimming</td>\n",
              "      <td>CHASAPIS, Spiridon</td>\n",
              "      <td>GRE</td>\n",
              "      <td>Men</td>\n",
              "      <td>100M Freestyle For Sailors</td>\n",
              "      <td>Silver</td>\n",
              "    </tr>\n",
              "  </tbody>\n",
              "</table>\n",
              "</div>"
            ],
            "text/plain": [
              "   Year    City     Sport  ... Gender                       Event   Medal\n",
              "0  1896  Athens  Aquatics  ...    Men              100M Freestyle    Gold\n",
              "1  1896  Athens  Aquatics  ...    Men              100M Freestyle  Silver\n",
              "2  1896  Athens  Aquatics  ...    Men  100M Freestyle For Sailors  Bronze\n",
              "3  1896  Athens  Aquatics  ...    Men  100M Freestyle For Sailors    Gold\n",
              "4  1896  Athens  Aquatics  ...    Men  100M Freestyle For Sailors  Silver\n",
              "\n",
              "[5 rows x 9 columns]"
            ]
          },
          "metadata": {},
          "execution_count": 17
        }
      ]
    },
    {
      "cell_type": "code",
      "metadata": {
        "colab": {
          "base_uri": "https://localhost:8080/",
          "height": 637
        },
        "id": "zQT4cNh8ldVd",
        "outputId": "2424aaf2-fe4a-4598-d0e2-23a869185994"
      },
      "source": [
        "# I'll group the dataframe by each unique Event according to the number of participated athletes  \n",
        "q7 = summer_dataframe.groupby(['Event']).count()['Athlete'].sort_values(ascending=False).head()\n",
        "print('>>> Top 5 most popular events in terms of number of players:\\n',q7)\n",
        "q7.plot.bar(xlabel='Events', ylabel='Players', color='silver', figsize=(12,6),\n",
        "            title='Top 5 most popular events in terms of number of players')"
      ],
      "execution_count": 20,
      "outputs": [
        {
          "output_type": "stream",
          "name": "stdout",
          "text": [
            ">>> Top 5 most popular events in terms of number of players:\n",
            " Event\n",
            "Football            1497\n",
            "Hockey              1422\n",
            "Team Competition    1147\n",
            "Basketball          1012\n",
            "Handball             973\n",
            "Name: Athlete, dtype: int64\n"
          ]
        },
        {
          "output_type": "execute_result",
          "data": {
            "text/plain": [
              "<matplotlib.axes._subplots.AxesSubplot at 0x7ff198200410>"
            ]
          },
          "metadata": {},
          "execution_count": 20
        },
        {
          "output_type": "display_data",
          "data": {
            "image/png": "[encoded data removed]",
            "text/plain": [
              "<Figure size 864x432 with 1 Axes>"
            ]
          },
          "metadata": {
            "needs_background": "light"
          }
        }
      ]
    },
    {
      "cell_type": "code",
      "metadata": {
        "colab": {
          "base_uri": "https://localhost:8080/"
        },
        "id": "iSCkddQ6u2nN",
        "outputId": "5d57e9fe-5743-4127-c607-b4957f539bda"
      },
      "source": [
        "# I will be using the same approach like the previous question to print the answer \n",
        "dic = dict(summer_dataframe.groupby(['Event']).count()['Athlete'])  \n",
        "dic = sorted(dic.items(), key=lambda x:x[1], reverse=True)\n",
        "print(dic[0][0])\n",
        "print('The event that has most number of players is {} with {} player.'.format(\n",
        "    dic[0][0], dic[0][1]\n",
        "))"
      ],
      "execution_count": 21,
      "outputs": [
        {
          "output_type": "stream",
          "name": "stdout",
          "text": [
            "Football\n",
            "The event that has most number of players is Football with 1497 player.\n"
          ]
        }
      ]
    },
    {
      "cell_type": "markdown",
      "metadata": {
        "id": "N-Zc54aUv8EU"
      },
      "source": [
        "**8. Which sport is having most female Gold Medalists? (Top 5)**"
      ]
    },
    {
      "cell_type": "code",
      "metadata": {
        "colab": {
          "base_uri": "https://localhost:8080/"
        },
        "id": "wwix-zgNz54y",
        "outputId": "8d31fb8c-89ac-407a-fec1-0b55d3e1f81b"
      },
      "source": [
        "summer_dataframe['Gender'].unique()"
      ],
      "execution_count": 22,
      "outputs": [
        {
          "output_type": "execute_result",
          "data": {
            "text/plain": [
              "array(['Men', 'Women'], dtype=object)"
            ]
          },
          "metadata": {},
          "execution_count": 22
        }
      ]
    },
    {
      "cell_type": "code",
      "metadata": {
        "colab": {
          "base_uri": "https://localhost:8080/",
          "height": 606
        },
        "id": "y15PHxJEuSKt",
        "outputId": "b084268a-87cb-45f9-e697-6784042e43b4"
      },
      "source": [
        "# For this question, I need my dataset to have only records of 'Women' gender and 'Gold' medal\n",
        "df = summer_dataframe[(summer_dataframe['Gender'] == 'Women') & (summer_dataframe['Medal'] == 'Gold')]\n",
        "# I'll group the dataframe by each unique sport according to the number of participated female athletes  \n",
        "q8 = df.groupby(['Sport']).count()['Medal'].sort_values(ascending=False).head()\n",
        "print('>>> Top 5 Sports that have most female Gold Medalists:\\n',q8)\n",
        "q8.plot.bar(xlabel='Sports', ylabel='Female Players', color='gold', figsize=(12,6),\n",
        "            title='Top 5 Sports that have most female Gold Medalists')"
      ],
      "execution_count": 23,
      "outputs": [
        {
          "output_type": "stream",
          "name": "stdout",
          "text": [
            ">>> Top 5 Sports that have most female Gold Medalists:\n",
            " Sport\n",
            "Aquatics      589\n",
            "Athletics     389\n",
            "Gymnastics    268\n",
            "Rowing        217\n",
            "Volleyball    166\n",
            "Name: Medal, dtype: int64\n"
          ]
        },
        {
          "output_type": "execute_result",
          "data": {
            "text/plain": [
              "<matplotlib.axes._subplots.AxesSubplot at 0x7ff1982003d0>"
            ]
          },
          "metadata": {},
          "execution_count": 23
        },
        {
          "output_type": "display_data",
          "data": {
            "image/png": "[encoded data removed]",
            "text/plain": [
              "<Figure size 864x432 with 1 Axes>"
            ]
          },
          "metadata": {
            "needs_background": "light"
          }
        }
      ]
    },
    {
      "cell_type": "code",
      "metadata": {
        "colab": {
          "base_uri": "https://localhost:8080/"
        },
        "id": "1q_NNC1iE9ea",
        "outputId": "9199de5e-8cba-4960-bdcd-4a4c96b47b20"
      },
      "source": [
        "# I will be using the same approach like the previous question to print the answer \n",
        "dic = dict(df.groupby(['Sport']).count()['Medal'])  \n",
        "dic = sorted(dic.items(), key=lambda x:x[1], reverse=True)\n",
        "print(dic[0][0])\n",
        "print('The sport that has most number of female Gold medalists is {} with {} player.'.format(\n",
        "    dic[0][0], dic[0][1]\n",
        "))"
      ],
      "execution_count": 24,
      "outputs": [
        {
          "output_type": "stream",
          "name": "stdout",
          "text": [
            "Aquatics\n",
            "The sport that has most number of female Gold medalists is Aquatics with 589 player.\n"
          ]
        }
      ]
    },
    {
      "cell_type": "code",
      "metadata": {
        "id": "cQHzDpI8GSsb"
      },
      "source": [
        ""
      ],
      "execution_count": null,
      "outputs": []
    }
  ]
}