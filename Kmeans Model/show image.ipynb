import nibabel as nib
import matplotlib.pyplot as plt

# The main role of show_image is to display image out on the screen using matplotlib module
def show_image(num_image, im, lb):
    '''
    This function contains 3 parameters:
        num_image: index of the image in the array 
        im: array of images 
        lb: array of labels
    '''
    img = nib.load(os.path.join(image_path_main, im[num_image])).get_fdata()
    label = nib.load(os.path.join(image_path_main, lb[num_image])).get_fdata()
    print(image.shape)
    print(imagelb.shape)
    
    print('Image Min-Max values: Image={},{} and label={},{}'.format(img.max(), img.min(), label.max(), label.min()))
    print('Number of subclasses = ', int(label.max())+1)
    
    ax = plt.subplot('121')
    ax.imshow(img[:,:,10], cmap='gray')
    ax.set_title('Input image')
    ax = plt.subplot('122')
    ax.imshow(label[:,:,10], cmap='gray')
    ax.set_title('Segmentation Mask')
    
    plt.show()
    print('\n')

# Testing show_image function with the first image 
show_image(0, im, lb)

# Testing show_image function with 10 images in a row 
for i in range(10):
    show_image(i, im, lb)